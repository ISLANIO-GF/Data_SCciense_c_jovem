{
 "cells": [
  {
   "cell_type": "markdown",
   "id": "1289442d",
   "metadata": {},
   "source": [
    "## Fundamentos "
   ]
  },
  {
   "cell_type": "markdown",
   "id": "897236fd",
   "metadata": {},
   "source": [
    "## 1. Array / Lista"
   ]
  },
  {
   "cell_type": "markdown",
   "id": "6308f0f5",
   "metadata": {},
   "source": [
    "### 1.1 - Array\n",
    "Os arrays em Python são usados para armazenar múltiplos itens do mesmo tipo. Eles são semelhantes às listas, mas existem algumas diferenças importantes, principalmente relacionadas ao tipo de dado que eles suportam. Arrays precisam ser importados da biblioteca array, e todos os elementos em um array devem ser do mesmo tipo."
   ]
  },
  {
   "cell_type": "code",
   "execution_count": null,
   "id": "7a3f89a3",
   "metadata": {},
   "outputs": [
    {
     "name": "stdout",
     "output_type": "stream",
     "text": [
      "1\n",
      "array('i', [1, 2, 3, 5, 4, 6, 6])\n",
      "array('i', [1, 2, 3, 5, 4, 6])\n",
      "array('i', [10, 2, 3, 5, 4, 6])\n",
      "array('i', [10, 2, 7, 3, 5, 4, 6])\n",
      "array('i', [10, 2, 3, 5, 4, 6])\n"
     ]
    },
    {
     "ename": "TypeError",
     "evalue": "array item must be unicode character",
     "output_type": "error",
     "traceback": [
      "\u001b[1;31m---------------------------------------------------------------------------\u001b[0m",
      "\u001b[1;31mTypeError\u001b[0m                                 Traceback (most recent call last)",
      "Cell \u001b[1;32mIn[3], line 31\u001b[0m\n\u001b[0;32m     27\u001b[0m \u001b[38;5;28mprint\u001b[39m(meu_array)  \n\u001b[0;32m     30\u001b[0m \u001b[38;5;28;01mimport\u001b[39;00m \u001b[38;5;21;01marray\u001b[39;00m\n\u001b[1;32m---> 31\u001b[0m frutas \u001b[38;5;241m=\u001b[39m \u001b[43marray\u001b[49m\u001b[38;5;241;43m.\u001b[39;49m\u001b[43marray\u001b[49m\u001b[43m(\u001b[49m\u001b[38;5;124;43m'\u001b[39;49m\u001b[38;5;124;43mu\u001b[39;49m\u001b[38;5;124;43m'\u001b[39;49m\u001b[43m,\u001b[49m\u001b[43m \u001b[49m\u001b[43m[\u001b[49m\u001b[38;5;124;43m\"\u001b[39;49m\u001b[38;5;124;43mMaçã\u001b[39;49m\u001b[38;5;124;43m\"\u001b[39;49m\u001b[43m,\u001b[49m\u001b[43m \u001b[49m\u001b[38;5;124;43m\"\u001b[39;49m\u001b[38;5;124;43mBanana\u001b[39;49m\u001b[38;5;124;43m\"\u001b[39;49m\u001b[43m]\u001b[49m\u001b[43m)\u001b[49m\n",
      "\u001b[1;31mTypeError\u001b[0m: array item must be unicode character"
     ]
    }
   ],
   "source": [
    "import array as arr\n",
    "\n",
    "# Criando um array de inteiros\n",
    "meu_array = arr.array('i', [1,2,3,5,4,6])\n",
    "\n",
    "# Acessando elementos\n",
    "print(meu_array[0])  \n",
    "\n",
    "# Adicionando elementos\n",
    "meu_array.append(6)\n",
    "print(meu_array)  \n",
    "\n",
    "# Removendo o último elemento\n",
    "meu_array.pop()\n",
    "print(meu_array)  \n",
    "\n",
    "# Alterando um valor\n",
    "meu_array[0] = 10\n",
    "print(meu_array)  \n",
    "\n",
    "# Inserindo valor na posição 3 do vetor - índice 2\n",
    "meu_array.insert(2,7)\n",
    "print(meu_array)  \n",
    "\n",
    "# Removendo o primerio 7 encontrado no vetor\n",
    "meu_array.remove(7)\n",
    "print(meu_array)  \n"
   ]
  },
  {
   "cell_type": "markdown",
   "id": "4f0fbfc0",
   "metadata": {},
   "source": [
    "### Principais Funções de Arrays:\n",
    "- append(): Adiciona um novo valor ao final do array.\n",
    "- pop(): Remove o último elemento do array.\n",
    "- insert(pos, elem): Insere um elemento em uma posição específica.\n",
    "- remove(): Remove a primeira ocorrência de um valor no array."
   ]
  },
  {
   "cell_type": "markdown",
   "id": "5886abdb",
   "metadata": {},
   "source": [
    "### 1.2 - Lista\n",
    "As listas são uma estrutura de dados embutida no Python, e ao contrário dos arrays, elas podem armazenar diferentes tipos de dados. As listas são mutáveis, o que significa que seus elementos podem ser modificados após sua criação."
   ]
  },
  {
   "cell_type": "code",
   "execution_count": 2,
   "id": "5a1a3add",
   "metadata": {},
   "outputs": [
    {
     "name": "stdout",
     "output_type": "stream",
     "text": [
      "Python\n",
      "[1, 2, 'Python', 3.5, 'Novo Item']\n",
      "[1, 2, 3.5, 'Novo Item']\n",
      "[1, 2, 5, 9]\n",
      "[9, 5, 2, 1]\n",
      "[10, 9, 5, 2, 1]\n",
      "[10, 9, 5, 2]\n",
      "1\n"
     ]
    }
   ],
   "source": [
    "# Criando uma lista\n",
    "minha_lista = [1, 2, 'Python', 3.5]\n",
    "\n",
    "# Acessando elementos\n",
    "print(minha_lista[2])  \n",
    "\n",
    "# Adicionando um novo elemento\n",
    "minha_lista.append('Novo Item')\n",
    "print(minha_lista)  \n",
    "\n",
    "# Removendo um elemento\n",
    "minha_lista.remove('Python')\n",
    "print(minha_lista)  \n",
    "\n",
    "# Ordenando uma lista de números\n",
    "numeros = [5, 2, 9, 1]\n",
    "numeros.sort()\n",
    "print(numeros)  \n",
    "\n",
    "# Revertendo a ordem da lista\n",
    "numeros.reverse()\n",
    "print(numeros)  \n",
    "\n",
    "# Inserindo o número 10 no índice 0, na primeira posição\n",
    "numeros.insert(0,10)\n",
    "print(numeros)\n",
    "\n",
    "#removendo o último item da lista\n",
    "elem = numeros.pop()\n",
    "print(numeros)\n",
    "print(elem)"
   ]
  },
  {
   "cell_type": "markdown",
   "id": "bff4243f",
   "metadata": {},
   "source": [
    "### Principais Funções de Listas:\n",
    "\n",
    "- append(): Adiciona um novo item no final da lista.\n",
    "- remove(): Remove a primeira ocorrência de um valor.\n",
    "- pop(): Remove e retorna o último item da lista.\n",
    "- insert(pos, elem): Insere um item em uma posição específica.\n",
    "- sort(): Ordena a lista em ordem crescente.\n",
    "- reverse(): Inverte a ordem dos elementos na lista.\n",
    "- extend(lista2): Extende a lista original concatenando outra lista."
   ]
  },
  {
   "attachments": {
    "aula03-tabelalistaxarrays.png": {
     "image/png": "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"
    }
   },
   "cell_type": "markdown",
   "id": "70da4b80",
   "metadata": {},
   "source": [
    "![aula03-tabelalistaxarrays.png](attachment:aula03-tabelalistaxarrays.png)"
   ]
  },
  {
   "cell_type": "markdown",
   "id": "466d5a4c",
   "metadata": {},
   "source": [
    "## 2. Pilha"
   ]
  },
  {
   "cell_type": "markdown",
   "id": "767c0fe3",
   "metadata": {},
   "source": [
    "Uma pilha (stack) é uma estrutura de dados que segue o princípio LIFO (Last In, First Out), ou seja, o último elemento que entra é o primeiro que sai. A pilha é uma coleção de elementos onde as operações de inserção (push) e remoção (pop) ocorrem no topo.\n",
    "\n",
    "Em Python, não há uma estrutura de dados dedicada para pilhas, mas as listas podem ser usadas para implementar o comportamento de uma pilha, utilizando seus métodos como append() e pop().\n",
    "\n",
    "#### Conceitos de Pilha\n",
    "- Push: Adicionar um elemento no topo da pilha.\n",
    "- Pop: Remover o elemento do topo da pilha.\n",
    "- Top/Peek: Acessar o elemento no topo da pilha sem removê-lo.\n",
    "- IsEmpty: Verificar se a pilha está vazia."
   ]
  },
  {
   "cell_type": "code",
   "execution_count": 3,
   "id": "c391c1a3",
   "metadata": {},
   "outputs": [
    {
     "name": "stdout",
     "output_type": "stream",
     "text": [
      "Pilha após inserção: [10, 20, 30]\n",
      "Elemento removido: 30\n",
      "Pilha após remoção: [10, 20]\n",
      "Elemento no topo da pilha: 20\n",
      "Pilha não está vazia\n",
      "A quantidade de elementos da pilha é : 2\n"
     ]
    }
   ],
   "source": [
    "# Criando uma pilha\n",
    "pilha = []\n",
    "\n",
    "\n",
    "\n",
    "# Operação Push (adicionar elementos à pilha)\n",
    "pilha.append(10)\n",
    "pilha.append(20)\n",
    "pilha.append(30)\n",
    "\n",
    "print(\"Pilha após inserção:\", pilha)  \n",
    "\n",
    "# Operação Pop (remover o elemento do topo da pilha)\n",
    "topo = pilha.pop()\n",
    "print(\"Elemento removido:\", topo)  \n",
    "print(\"Pilha após remoção:\", pilha)  \n",
    "\n",
    "# Acessando o topo da pilha sem remover (Peek/Top)\n",
    "print(\"Elemento no topo da pilha:\", pilha[-1])  \n",
    "\n",
    "# Verificando se a pilha está vazia\n",
    "if not pilha:\n",
    "    print(\"Pilha está vazia\")\n",
    "else:\n",
    "    print(\"Pilha não está vazia\")  \n",
    "    print(f\"A quantidade de elementos da pilha é : {len(pilha)}\")"
   ]
  },
  {
   "cell_type": "markdown",
   "id": "f27abd54",
   "metadata": {},
   "source": [
    "#### Principais Funções Utilizadas na Pilha\n",
    "\n",
    "- append(): Simula a operação de push ao adicionar um elemento no topo da pilha.\n",
    "- pop(): Simula a operação de pop, removendo o elemento no topo da pilha.\n",
    "- p[-1]: Acessa o último elemento da pilha sem removê-lo, equivalente à operação peek.\n",
    "- not pilha: Verifica se a pilha está vazia."
   ]
  },
  {
   "cell_type": "markdown",
   "id": "8fb2cd32",
   "metadata": {},
   "source": [
    "## 3. Fila"
   ]
  },
  {
   "cell_type": "markdown",
   "id": "58e0fcb7",
   "metadata": {},
   "source": [
    "Uma fila (queue) é uma estrutura de dados que segue o princípio FIFO (First In, First Out), ou seja, o primeiro elemento que entra é o primeiro a sair. Assim como as pilhas, Python não tem uma estrutura de fila nativa, mas podemos usar listas ou a biblioteca 'collections.deque' para implementar esse comportamento de forma eficiente.\n",
    "\n",
    "#### Conceitos de Fila\n",
    "\n",
    "- Enqueue: Adicionar um elemento no final da fila.\n",
    "- Dequeue: Remover o elemento do início da fila.\n",
    "- Front: Acessar o primeiro elemento da fila.\n",
    "- IsEmpty: Verificar se a fila está vazia."
   ]
  },
  {
   "cell_type": "markdown",
   "id": "eb82461a",
   "metadata": {},
   "source": [
    "### 3.1 Fila implementada com o conceito de lista"
   ]
  },
  {
   "cell_type": "code",
   "execution_count": 4,
   "id": "f7384790",
   "metadata": {},
   "outputs": [
    {
     "name": "stdout",
     "output_type": "stream",
     "text": [
      "Fila após inserção: [10, 20, 30]\n",
      "Elemento removido: 10\n",
      "Fila após remoção: [20, 30]\n",
      "Primeiro elemento da fila: 20\n",
      "Fila não está vazia\n",
      "A fila contém 2 itens\n"
     ]
    }
   ],
   "source": [
    "# Criando uma fila\n",
    "fila = []\n",
    "\n",
    "# Operação Enqueue (adicionar elementos à fila)\n",
    "fila.append(10)\n",
    "fila.append(20)\n",
    "fila.append(30)\n",
    "\n",
    "print(\"Fila após inserção:\", fila)  \n",
    "\n",
    "# Operação Dequeue (remover o primeiro elemento da fila)\n",
    "primeiro = fila.pop(0)\n",
    "print(\"Elemento removido:\", primeiro)  \n",
    "print(\"Fila após remoção:\", fila)  \n",
    "\n",
    "# Acessando o primeiro elemento da fila (Front)\n",
    "print(\"Primeiro elemento da fila:\", fila[0])  \n",
    "\n",
    "# Verificando se a fila está vazia\n",
    "if not fila:\n",
    "    print(\"Fila está vazia\")\n",
    "else:\n",
    "    print(\"Fila não está vazia\")  \n",
    "    print(f\"A fila contém {len(fila)} itens\")"
   ]
  },
  {
   "cell_type": "markdown",
   "id": "6d4bdf38",
   "metadata": {},
   "source": [
    "#### Principais Funções na Fila usando Lista\n",
    "\n",
    "- append(): Simula a operação de enqueue ao adicionar um elemento ao final da fila.\n",
    "- pop(0): Simula a operação de dequeue, removendo o primeiro elemento da fila.\n",
    "- f[0]: Acessa o primeiro elemento da fila sem removê-lo, equivalente à operação front.\n",
    "- not fila: Verifica se a fila está vazia."
   ]
  },
  {
   "cell_type": "markdown",
   "id": "a9a68774",
   "metadata": {},
   "source": [
    "### 3.2 Fila implementada com deque"
   ]
  },
  {
   "cell_type": "markdown",
   "id": "9f3b9531",
   "metadata": {},
   "source": [
    "A estrutura de lista em Python tem uma limitação de desempenho para operações de remoção no início (tempo linear, O(n)), o que pode ser ineficiente em grandes filas. Para isso, podemos usar a classe deque da biblioteca collections, que oferece inserção e remoção eficientes em ambos os extremos (tempo constante, O(1))."
   ]
  },
  {
   "cell_type": "code",
   "execution_count": 5,
   "id": "d3864f44",
   "metadata": {},
   "outputs": [
    {
     "name": "stdout",
     "output_type": "stream",
     "text": [
      "Fila após inserção: deque([10, 20, 30])\n",
      "Elemento removido: 10\n",
      "Fila após remoção: deque([20, 30])\n",
      "Primeiro elemento da fila: 20\n",
      "Fila não está vazia\n",
      "A fila contém 2 itens\n"
     ]
    }
   ],
   "source": [
    "from collections import deque\n",
    "\n",
    "# Criando uma fila com deque\n",
    "fila = deque()\n",
    "\n",
    "# Operação Enqueue\n",
    "fila.append(10)\n",
    "fila.append(20)\n",
    "fila.append(30)\n",
    "\n",
    "print(\"Fila após inserção:\", fila)  \n",
    "\n",
    "# Operação Dequeue\n",
    "primeiro = fila.popleft()\n",
    "print(\"Elemento removido:\", primeiro)  \n",
    "print(\"Fila após remoção:\", fila)  \n",
    "\n",
    "# Acessando o primeiro elemento da fila (Front)\n",
    "print(\"Primeiro elemento da fila:\", fila[0])  \n",
    "\n",
    "# Verificando se a fila está vazia\n",
    "if not fila:\n",
    "    print(\"Fila está vazia\")\n",
    "else:\n",
    "    print(\"Fila não está vazia\")  # Saída: Fila não está vazia\n",
    "    print(f\"A fila contém {len(fila)} itens\")"
   ]
  },
  {
   "cell_type": "markdown",
   "id": "5e9e4966",
   "metadata": {},
   "source": [
    "#### Funções da deque:\n",
    "- append(item): Adiciona um item ao final da fila (enqueue).\n",
    "- popleft(): Remove e retorna o primeiro item da fila (dequeue).\n",
    "- f[0]: Acessa o primeiro elemento sem removê-lo (front).\n",
    "- not fila: Verifica se a fila está vazia."
   ]
  },
  {
   "cell_type": "markdown",
   "id": "1548bf13",
   "metadata": {},
   "source": [
    "## 4. Árvore"
   ]
  },
  {
   "cell_type": "markdown",
   "id": "23e4b71c",
   "metadata": {},
   "source": [
    "Uma árvore é uma estrutura de dados hierárquica onde cada elemento é chamado de nó. A árvore começa com um único nó chamado de raiz, e cada nó pode ter zero ou mais filhos. Um nó que não tem filhos é chamado de folha. Árvores são amplamente usadas para representar hierarquias, como diretórios de sistemas de arquivos ou estruturas de decisão.\n",
    "\n",
    "##### Conceitos Importantes\n",
    "- Raiz: O nó principal da árvore, onde a estrutura começa.\n",
    "- Nó: Cada elemento da árvore. Pode ser a raiz, intermediário ou folha.\n",
    "- Filho: Um nó descendente de outro nó.\n",
    "- Pai: Um nó que tem outro nó descendente.\n",
    "- Folha: Um nó que não tem filhos.\n",
    "- Altura: O número máximo de níveis na árvore.\n",
    "- Profundidade: O número de arestas do nó até a raiz.\n",
    "- Subárvore: Uma árvore formada a partir de qualquer nó e seus descendentes.\n",
    "\n",
    "Vamos adaptar a implementação das árvores utilizando uma abordagem mais simples, baseada em estruturas de dados básicas, como listas e dicionários."
   ]
  },
  {
   "cell_type": "markdown",
   "id": "21530fa6",
   "metadata": {},
   "source": [
    "#### Implementação de árvore binária usando lista"
   ]
  },
  {
   "cell_type": "code",
   "execution_count": 6,
   "id": "53a45da4",
   "metadata": {},
   "outputs": [],
   "source": [
    "# Estrutura básica de uma árvore binária\n",
    "# [Valor, Filho Esquerdo, Filho Direito]\n",
    "\n",
    "arvore = [50, \n",
    "          [30, [20, None, None], [40, None, None]], \n",
    "          [70, [60, None, None], [80, None, None]]]\n"
   ]
  },
  {
   "cell_type": "markdown",
   "id": "10d7dcea",
   "metadata": {},
   "source": [
    "Neste exemplo:\n",
    "\n",
    "- O nó raiz tem o valor 50.\n",
    "- O filho à esquerda da raiz é 30, com subárvores [20] (sem filhos) e [40] (sem filhos).\n",
    "- O filho à direita da raiz é 70, com subárvores [60] (sem filhos) e [80] (sem filhos)."
   ]
  },
  {
   "attachments": {
    "aula03-arvore1.png": {
     "image/png": "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"
    }
   },
   "cell_type": "markdown",
   "id": "9f9adee3",
   "metadata": {},
   "source": [
    "![aula03-arvore1.png](attachment:aula03-arvore1.png)"
   ]
  },
  {
   "cell_type": "markdown",
   "id": "bc0ec324",
   "metadata": {},
   "source": [
    "#### 4.1 Função para Inserir um Valor na Árvore\n",
    "Podemos criar uma função recursiva para inserir um valor na árvore, onde cada subárvore é representada por uma lista aninhada."
   ]
  },
  {
   "cell_type": "code",
   "execution_count": 7,
   "id": "b5f62ae3",
   "metadata": {},
   "outputs": [],
   "source": [
    "def inserir(valor, arvore):\n",
    "    if arvore is None:\n",
    "        return [valor, None, None]\n",
    "    if valor < arvore[0]:\n",
    "        arvore[1] = inserir(valor, arvore[1])  # Inserir à esquerda\n",
    "    else:\n",
    "        arvore[2] = inserir(valor, arvore[2])  # Inserir à direita\n",
    "    return arvore"
   ]
  },
  {
   "cell_type": "markdown",
   "id": "3accfe50",
   "metadata": {},
   "source": [
    "#### 4.2 Função para Inserir um Valor na Árvore"
   ]
  },
  {
   "cell_type": "code",
   "execution_count": 9,
   "id": "ffa41522",
   "metadata": {},
   "outputs": [],
   "source": [
    "def em_ordem(arvore):\n",
    "    if arvore is not None:\n",
    "        em_ordem(arvore[1])  # Percorre a subárvore da esquerda\n",
    "        print(arvore[0])  # Visita a raiz\n",
    "        em_ordem(arvore[2])  # Percorre a subárvore da direita"
   ]
  },
  {
   "cell_type": "markdown",
   "id": "104674c3",
   "metadata": {},
   "source": [
    "##### Exemplo de utilização"
   ]
  },
  {
   "cell_type": "code",
   "execution_count": 10,
   "id": "bb84582e",
   "metadata": {},
   "outputs": [
    {
     "name": "stdout",
     "output_type": "stream",
     "text": [
      "Percurso em ordem:\n",
      "20\n",
      "30\n",
      "40\n",
      "50\n",
      "60\n",
      "70\n",
      "80\n"
     ]
    }
   ],
   "source": [
    "# Criando uma árvore inicial\n",
    "arvore = None\n",
    "\n",
    "# Inserindo valores na árvore\n",
    "arvore = inserir(50, arvore)\n",
    "arvore = inserir(30, arvore)\n",
    "arvore = inserir(70, arvore)\n",
    "arvore = inserir(20, arvore)\n",
    "arvore = inserir(40, arvore)\n",
    "arvore = inserir(60, arvore)\n",
    "arvore = inserir(80, arvore)\n",
    "\n",
    "# Percorrendo a árvore em ordem\n",
    "print(\"Percurso em ordem:\")\n",
    "em_ordem(arvore)"
   ]
  },
  {
   "cell_type": "markdown",
   "id": "37a6f5d4",
   "metadata": {},
   "source": [
    "#### 4.3 Função para Calcular a Altura da Árvore"
   ]
  },
  {
   "cell_type": "code",
   "execution_count": 11,
   "id": "f263ac2d",
   "metadata": {},
   "outputs": [],
   "source": [
    "def altura(arvore):\n",
    "    if arvore is None:\n",
    "        return -1\n",
    "    else:\n",
    "        altura_esquerda = altura(arvore[1])\n",
    "        altura_direita = altura(arvore[2])\n",
    "        return 1 + max(altura_esquerda, altura_direita)"
   ]
  },
  {
   "cell_type": "code",
   "execution_count": 12,
   "id": "d49b0c7a",
   "metadata": {},
   "outputs": [
    {
     "name": "stdout",
     "output_type": "stream",
     "text": [
      "Altura da árvore: 2\n"
     ]
    }
   ],
   "source": [
    "print(\"Altura da árvore:\", altura(arvore))  "
   ]
  },
  {
   "cell_type": "markdown",
   "id": "8cd373eb",
   "metadata": {},
   "source": [
    "#### 4.4 Função para Buscar elemento na Árvore"
   ]
  },
  {
   "cell_type": "code",
   "execution_count": 12,
   "id": "17b4f26f",
   "metadata": {},
   "outputs": [],
   "source": [
    "def buscar(arvore, valor):\n",
    "    # Caso base: árvore vazia ou encontramos o valor\n",
    "    if arvore is None:\n",
    "        return \"Valor não encontrado.\"\n",
    "    if arvore[0] == valor:\n",
    "        return f\"Valor {valor} encontrado!\"\n",
    "    \n",
    "    # Se o valor é menor que o valor atual, buscar na subárvore esquerda\n",
    "    if valor < arvore[0]:\n",
    "        return buscar(arvore[1], valor)\n",
    "    # Se o valor é maior, buscar na subárvore direita\n",
    "    else:\n",
    "        return buscar(arvore[2], valor)"
   ]
  },
  {
   "cell_type": "code",
   "execution_count": null,
   "id": "e1b1ff44",
   "metadata": {},
   "outputs": [],
   "source": [
    "# Buscar um valor na árvore\n",
    "print(buscar(arvore, 40))  \n",
    "print(buscar(arvore, 90))  "
   ]
  },
  {
   "cell_type": "markdown",
   "id": "1c20365c",
   "metadata": {},
   "source": [
    "# Agora vamos aplicar esses conceitos em um problema prático...\n"
   ]
  },
  {
   "cell_type": "markdown",
   "id": "c5dacd98",
   "metadata": {},
   "source": [
    "## Problema proposto: Análise de Sentimento Utilizando Conceitos da Aula\n",
    "\n",
    "O problema proposto é desenvolver um sistema inicial de análise de sentimento que avalie comentários de usuários sobre produtos ou serviços, classificando-os como positivos, negativos, ou neutros. O objetivo principal é implementar uma solução eficiente que não só categorize os comentários, mas também priorize o processamento de comentários negativos"
   ]
  },
  {
   "cell_type": "markdown",
   "id": "c17463a0",
   "metadata": {},
   "source": [
    "#### Passo 1: Processar uma LISTA de comentários para remover palavras irrelevantes (stopwords)."
   ]
  },
  {
   "cell_type": "code",
   "execution_count": null,
   "id": "306ff431",
   "metadata": {},
   "outputs": [],
   "source": [
    "# Lista de comentários\n",
    "comentarios = [\"Eu adorei este produto\", \"Péssima experiência\", \"Muito bom, mas pode melhorar\"]\n",
    "\n",
    "# Lista de stopwords\n",
    "stopwords = [\"eu\", \"este\", \"mas\", \"pode\"]\n",
    "\n",
    "# Função simples para remover stopwords\n",
    "def remover_stopwords(comentario, stopwords):\n",
    "    palavras = comentario.split() # separa as palavras em uma lista (espaco é o delimitador)\n",
    "    palavras_filtradas = []\n",
    "    for palavra in palavras:\n",
    "        if palavra.lower() not in stopwords:\n",
    "            palavras_filtradas.append(palavra)\n",
    "    return ' '.join(palavras_filtradas)\n",
    "\n",
    "# Processar todos os comentários\n",
    "for i in range(len(comentarios)):\n",
    "    comentarios[i] = remover_stopwords(comentarios[i], stopwords)\n",
    "\n",
    "print(\"Comentários filtrados:\", comentarios)\n"
   ]
  },
  {
   "cell_type": "markdown",
   "id": "114db2c5",
   "metadata": {},
   "source": [
    "##### Passo 2: Processamento de Comentários em Ordem (Tempo Real) e deixando todos os caracteres com minúsculos"
   ]
  },
  {
   "cell_type": "code",
   "execution_count": null,
   "id": "172dcc5f",
   "metadata": {},
   "outputs": [],
   "source": [
    "# Fila de comentários (FIFO)\n",
    "fila_comentarios = comentarios\n",
    "\n",
    "# Processar os comentários em ordem\n",
    "while len(fila_comentarios) > 0:\n",
    "    comentario = fila_comentarios.pop(0).lower()  # Remove o primeiro item da fila\n",
    "    print(\"Processando comentário:\", comentario)"
   ]
  },
  {
   "cell_type": "markdown",
   "id": "f7f80064",
   "metadata": {},
   "source": [
    "##### Passo 3: Priorizando comentários negativos no processamento"
   ]
  },
  {
   "cell_type": "code",
   "execution_count": null,
   "id": "7b8e56cb",
   "metadata": {},
   "outputs": [],
   "source": [
    "# Pilha de comentários negativos \n",
    "pilha_negativos = []\n",
    "comentarios = [\"Produto excelente\", \"Péssimo atendimento\", \"Bom custo-benefício\", \"Entrega horrível\"]\n",
    "\n",
    "\n",
    "# Adicionar comentários negativos à pilha\n",
    "for comentario in comentarios:\n",
    "    if \"Péssimo\" in comentario or \"horrível\" in comentario:\n",
    "        pilha_negativos.append(comentario)  # Adiciona os negativos à pilha\n",
    "\n",
    "# Processar os comentários negativos (último a entrar é o primeiro a sair)\n",
    "ordem = 1\n",
    "while len(pilha_negativos) > 0:\n",
    "    comentario = pilha_negativos.pop()\n",
    "    print(f\"{ordem})Processando comentário negativo:\", comentario)\n",
    "    ordem += 1"
   ]
  },
  {
   "cell_type": "markdown",
   "id": "101623a5",
   "metadata": {},
   "source": [
    "##### Passo 4: Construir uma árvore binária de busca simples para armazenar palavras-chave de sentimento e buscar essas palavras em novos comentários."
   ]
  },
  {
   "cell_type": "code",
   "execution_count": null,
   "id": "b8c8d3e1",
   "metadata": {},
   "outputs": [],
   "source": [
    "# Função para inserir palavras na árvore\n",
    "def inserir(arvore, palavra):\n",
    "    if arvore is None:\n",
    "        return [palavra, None, None]  # Nó na forma [palavra, esquerda, direita]\n",
    "    elif palavra < arvore[0]:\n",
    "        arvore[1] = inserir(arvore[1], palavra)  # Inserir na subárvore esquerda\n",
    "    else:\n",
    "        arvore[2] = inserir(arvore[2], palavra)  # Inserir na subárvore direita\n",
    "    return arvore\n",
    "\n",
    "# Função para buscar palavras na árvore\n",
    "def buscar(arvore, palavra):\n",
    "    if arvore is None:\n",
    "        return False\n",
    "    elif palavra == arvore[0]:\n",
    "        return True\n",
    "    elif palavra < arvore[0]:\n",
    "        return buscar(arvore[1], palavra)\n",
    "    else:\n",
    "        return buscar(arvore[2], palavra)\n",
    "\n",
    "# Criando a árvore de palavras de sentimento\n",
    "arvore = None\n",
    "palavras_sentimento = [\"bom\", \"ruim\", \"excelente\", \"terrível\"]\n",
    "\n",
    "for palavra in palavras_sentimento:\n",
    "    arvore = inserir(arvore, palavra)\n",
    "\n",
    "# Buscando palavras em novos comentários\n",
    "comentario = \"Este produto é excelente\"\n",
    "for palavra in comentario.split():\n",
    "    if buscar(arvore, palavra.lower()):\n",
    "        print(f\"A palavra '{palavra}' foi encontrada no comentário.\")\n",
    "\n",
    "\n",
    "# Buscando palavras em novos comentários\n",
    "comentario = \"O atendimento foi terrível\"\n",
    "for palavra in comentario.split():\n",
    "    if buscar(arvore, palavra.lower()):\n",
    "        print(f\"A palavra '{palavra}' foi encontrada no comentário.\")\n"
   ]
  },
  {
   "cell_type": "markdown",
   "id": "fe2dd2e0",
   "metadata": {},
   "source": [
    "##### Passo 5 (final): Integrando todos os conhecimentos"
   ]
  },
  {
   "cell_type": "code",
   "execution_count": null,
   "id": "183f54fb",
   "metadata": {},
   "outputs": [],
   "source": [
    "# Função para inserir uma palavra na árvore binária de busca (representada por listas)\n",
    "def inserir_na_arvore(arvore, palavra):\n",
    "    if arvore is None:\n",
    "        return [palavra, None, None]  # Nó na forma [palavra, esquerda, direita]\n",
    "    elif palavra < arvore[0]:\n",
    "        arvore[1] = inserir_na_arvore(arvore[1], palavra)  # Inserir na subárvore esquerda\n",
    "    else:\n",
    "        arvore[2] = inserir_na_arvore(arvore[2], palavra)  # Inserir na subárvore direita\n",
    "    return arvore\n",
    "\n",
    "# Função para buscar uma palavra na árvore binária de busca (BST)\n",
    "def buscar_na_arvore(arvore, palavra):\n",
    "    if arvore is None:\n",
    "        return False\n",
    "    if palavra == arvore[0]:\n",
    "        return True\n",
    "    elif palavra < arvore[0]:\n",
    "        return buscar_na_arvore(arvore[1], palavra)\n",
    "    else:\n",
    "        return buscar_na_arvore(arvore[2], palavra)\n",
    "\n",
    "# Função para remover stopwords de um comentário\n",
    "def remover_stopwords(comentario, stopwords):\n",
    "    palavras = comentario.split()\n",
    "    resultado = []\n",
    "    for palavra in palavras:\n",
    "        if palavra.lower() not in stopwords:\n",
    "            resultado.append(palavra)\n",
    "    return ' '.join(resultado)\n",
    "\n",
    "# Função para classificar um comentário utilizando árvores binárias de busca\n",
    "def classificar_comentario(comentario, arvore_positiva, arvore_negativa):\n",
    "    comentario_filtrado = remover_stopwords(comentario, stopwords).lower()\n",
    "    palavras = comentario_filtrado.split()\n",
    "\n",
    "    # Verifica primeiro se há palavras negativas usando a árvore\n",
    "    for palavra in palavras:\n",
    "        if buscar_na_arvore(arvore_negativa, palavra):\n",
    "            return \"negativo\"\n",
    "\n",
    "    # Verifica se há palavras positivas usando a árvore\n",
    "    for palavra in palavras:\n",
    "        if buscar_na_arvore(arvore_positiva, palavra):\n",
    "            return \"positivo\"\n",
    "\n",
    "    # Se não encontrou palavras positivas ou negativas, é neutro\n",
    "    return \"neutro\"\n",
    "\n",
    "# Função para processar comentários usando uma pilha para negativos e uma fila para os demais\n",
    "def processar_comentarios(comentarios, arvore_positiva, arvore_negativa):\n",
    "    pilha_negativos = []  # Pilha para comentários negativos\n",
    "    fila_neutros_positivos = []  # Fila para comentários neutros e positivos\n",
    "\n",
    "    # Classificação e separação dos comentários\n",
    "    for comentario in comentarios:\n",
    "        classificacao = classificar_comentario(comentario, arvore_positiva, arvore_negativa)\n",
    "        if classificacao == \"negativo\":\n",
    "            pilha_negativos.append(comentario)  # Comentários negativos vão para a pilha\n",
    "        else:\n",
    "            fila_neutros_positivos.append(comentario)  # Comentários positivos e neutros vão para a fila\n",
    "\n",
    "    # Processamento de comentários negativos primeiro (usando a pilha - LIFO)\n",
    "    print(\"Processando comentários negativos:\")\n",
    "    while len(pilha_negativos) > 0:\n",
    "        comentario = pilha_negativos.pop()  # Remove o último item da pilha\n",
    "        print(f\"Comentário NEGATIVO processado: {comentario}\")\n",
    "\n",
    "    # Processamento de comentários positivos e neutros (usando a fila - FIFO)\n",
    "    print(\"\\nProcessando comentários neutros/positivos:\")\n",
    "    while len(fila_neutros_positivos) > 0:\n",
    "        comentario = fila_neutros_positivos.pop(0)  # Remove o primeiro item da fila\n",
    "        print(f\"Comentário NEUTRO/POSITIVO processado: {comentario}\")\n",
    "\n",
    "# Lista de stopwords\n",
    "stopwords = [\"muito\", \"de\", \"o\", \"a\", \"com\", \"é\", \"foi\"]\n",
    "\n",
    "# Lista de comentários para análise\n",
    "comentarios = [\n",
    "    \"O atendimento foi terrível.\",\n",
    "    \"O produto é excelente, recomendo!\",\n",
    "    \"Entrega rápida, estou satisfeito.\",\n",
    "    \"Pior serviço que já tive.\",\n",
    "    \"Qualidade muito boa, mas o preço é alto.\",\n",
    "    \"Péssima experiência, não voltarei a comprar.\",\n",
    "    \"Produto maravilhoso, amei!\"\n",
    "]\n",
    "\n",
    "# Construção da árvore para palavras positivas e negativas\n",
    "arvore_positiva = None\n",
    "arvore_negativa = None\n",
    "\n",
    "# Inserindo palavras positivas na árvore\n",
    "palavras_positivas = [\"ótimo\", \"excelente\", \"bom\", \"maravilhoso\", \"recomendo\", \"satisfeito\"]\n",
    "for palavra in palavras_positivas:\n",
    "    arvore_positiva = inserir_na_arvore(arvore_positiva, palavra)\n",
    "\n",
    "# Inserindo palavras negativas na árvore\n",
    "palavras_negativas = [\"terrível\", \"péssimo\", \"horrível\", \"ruim\", \"pior\", \"voltarei\", \"péssima\"]\n",
    "for palavra in palavras_negativas:\n",
    "    arvore_negativa = inserir_na_arvore(arvore_negativa, palavra)\n",
    "\n",
    "# Executar o processamento de comentários\n",
    "processar_comentarios(comentarios, arvore_positiva, arvore_negativa)\n"
   ]
  },
  {
   "cell_type": "markdown",
   "id": "00e31c37",
   "metadata": {},
   "source": [
    "#### Agora usando árvora na busca (uma busca melhorada)"
   ]
  },
  {
   "cell_type": "code",
   "execution_count": null,
   "id": "f90a37ff",
   "metadata": {},
   "outputs": [],
   "source": [
    "# Função para inserir uma palavra na árvore binária de busca (representada por listas)\n",
    "def inserir_na_arvore(arvore, palavra):\n",
    "    if arvore is None:\n",
    "        return [palavra, None, None]  # Nó na forma [palavra, esquerda, direita]\n",
    "    elif palavra < arvore[0]:\n",
    "        arvore[1] = inserir_na_arvore(arvore[1], palavra)  # Inserir na subárvore esquerda\n",
    "    else:\n",
    "        arvore[2] = inserir_na_arvore(arvore[2], palavra)  # Inserir na subárvore direita\n",
    "    return arvore\n",
    "\n",
    "# Função para buscar uma palavra na árvore binária de busca (BST)\n",
    "def buscar_na_arvore(arvore, palavra):\n",
    "    if arvore is None:\n",
    "        return False\n",
    "    if palavra == arvore[0]:\n",
    "        return True\n",
    "    elif palavra < arvore[0]:\n",
    "        return buscar_na_arvore(arvore[1], palavra)\n",
    "    else:\n",
    "        return buscar_na_arvore(arvore[2], palavra)\n",
    "\n",
    "# Função para remover stopwords de um comentário\n",
    "def remover_stopwords(comentario, stopwords):\n",
    "    palavras = comentario.split()\n",
    "    resultado = []\n",
    "    for palavra in palavras:\n",
    "        if palavra.lower() not in stopwords:\n",
    "            resultado.append(palavra.lower())  # Preservar tudo em minúsculas para consistência\n",
    "    return ' '.join(resultado)\n",
    "\n",
    "# Função para classificar um comentário utilizando árvores binárias de busca\n",
    "def classificar_comentario(comentario, arvore_positiva, arvore_negativa):\n",
    "    comentario_filtrado = remover_stopwords(comentario, stopwords)\n",
    "    palavras = comentario_filtrado.split()\n",
    "\n",
    "    # Verifica primeiro se há palavras negativas usando a árvore\n",
    "    for palavra in palavras:\n",
    "        if buscar_na_arvore(arvore_negativa, palavra):\n",
    "            return \"negativo\"\n",
    "\n",
    "    # Verifica se há palavras positivas usando a árvore\n",
    "    for palavra in palavras:\n",
    "        if buscar_na_arvore(arvore_positiva, palavra):\n",
    "            return \"positivo\"\n",
    "\n",
    "    # Se não encontrou palavras positivas ou negativas, é neutro\n",
    "    return \"neutro\"\n",
    "\n",
    "# Função para processar comentários usando uma pilha para negativos e uma fila para os demais\n",
    "def processar_comentarios(comentarios, arvore_positiva, arvore_negativa):\n",
    "    pilha_negativos = []  # Pilha para comentários negativos\n",
    "    fila_neutros_positivos = []  # Fila para comentários neutros e positivos\n",
    "\n",
    "    # Classificação e separação dos comentários\n",
    "    for comentario in comentarios:\n",
    "        classificacao = classificar_comentario(comentario, arvore_positiva, arvore_negativa)\n",
    "        if classificacao == \"negativo\":\n",
    "            pilha_negativos.append(comentario)  # Comentários negativos vão para a pilha\n",
    "        else:\n",
    "            fila_neutros_positivos.append(comentario)  # Comentários positivos e neutros vão para a fila\n",
    "\n",
    "    # Processamento de comentários negativos primeiro (usando a pilha - LIFO)\n",
    "    print(\"Processando comentários negativos:\")\n",
    "    while len(pilha_negativos) > 0:\n",
    "        comentario = pilha_negativos.pop()  # Remove o último item da pilha\n",
    "        print(f\"Comentário NEGATIVO processado: {comentario}\")\n",
    "\n",
    "    # Processamento de comentários positivos e neutros (usando a fila - FIFO)\n",
    "    print(\"\\nProcessando comentários neutros/positivos:\")\n",
    "    while len(fila_neutros_positivos) > 0:\n",
    "        comentario = fila_neutros_positivos.pop(0)  # Remove o primeiro item da fila\n",
    "        print(f\"Comentário NEUTRO/POSITIVO processado: {comentario}\")\n",
    "\n",
    "# Lista de stopwords\n",
    "stopwords = [\"muito\", \"de\", \"o\", \"a\", \"com\", \"é\", \"foi\"]\n",
    "\n",
    "# Lista de comentários para análise\n",
    "comentarios = [\n",
    "    \"O atendimento foi o pior que tive.\",\n",
    "    \"O produto é excelente, recomendo!\",\n",
    "    \"Entrega rápida, estou satisfeito.\",\n",
    "    \"Pior serviço que já tive.\",\n",
    "    \"Qualidade muito boa, mas o preço é alto.\",\n",
    "    \"Péssima experiência, não voltarei a comprar.\",\n",
    "    \"Produto maravilhoso, amei!\"\n",
    "]\n",
    "\n",
    "# Construção da árvore para palavras positivas e negativas\n",
    "arvore_positiva = None\n",
    "arvore_negativa = None\n",
    "\n",
    "# Inserindo palavras positivas na árvore\n",
    "palavras_positivas = [\"ótimo\", \"excelente\", \"bom\", \"maravilhoso\", \"recomendo\", \"satisfeito\"]\n",
    "for palavra in palavras_positivas:\n",
    "    arvore_positiva = inserir_na_arvore(arvore_positiva, palavra)\n",
    "\n",
    "# Inserindo palavras negativas na árvore\n",
    "palavras_negativas = [\"terrível\", \"péssimo\", \"horrível\", \"ruim\", \"pior\", \"voltarei\", \"péssima\"]\n",
    "for palavra in palavras_negativas:\n",
    "    arvore_negativa = inserir_na_arvore(arvore_negativa, palavra)\n",
    "\n",
    "# Executar o processamento de comentários\n",
    "processar_comentarios(comentarios, arvore_positiva, arvore_negativa)\n"
   ]
  },
  {
   "cell_type": "markdown",
   "id": "03a707c2",
   "metadata": {},
   "source": [
    "### O uso de uma árvore binária de busca oferece eficiência em termos de busca, inserção, e ordenamento automático. Para grandes volumes de palavras-chave (como em análises de sentimentos com um vocabulário extenso), o uso de árvores garante que o desempenho seja escalável e que o tempo de processamento seja reduzido."
   ]
  },
  {
   "cell_type": "markdown",
   "id": "2be0262a",
   "metadata": {},
   "source": []
  }
 ],
 "metadata": {
  "kernelspec": {
   "display_name": "Python 3",
   "language": "python",
   "name": "python3"
  },
  "language_info": {
   "codemirror_mode": {
    "name": "ipython",
    "version": 3
   },
   "file_extension": ".py",
   "mimetype": "text/x-python",
   "name": "python",
   "nbconvert_exporter": "python",
   "pygments_lexer": "ipython3",
<<<<<<< Updated upstream
   "version": "3.11.1"
=======
   "version": "3.12.6"
>>>>>>> Stashed changes
  }
 },
 "nbformat": 4,
 "nbformat_minor": 5
}
